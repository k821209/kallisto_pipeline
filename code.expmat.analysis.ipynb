{
 "cells": [
  {
   "cell_type": "code",
   "execution_count": 93,
   "metadata": {
    "collapsed": true
   },
   "outputs": [],
   "source": [
    "%matplotlib inline\n",
    "import  pandas as pd \n",
    "import matplotlib.pyplot as plt\n",
    "import numpy as np\n",
    "from sklearn import preprocessing"
   ]
  },
  {
   "cell_type": "code",
   "execution_count": 2,
   "metadata": {
    "collapsed": true
   },
   "outputs": [],
   "source": [
    "df_mat = pd.read_pickle('./drought.exp.matrix.df.pk')"
   ]
  },
  {
   "cell_type": "code",
   "execution_count": 3,
   "metadata": {
    "collapsed": false
   },
   "outputs": [
    {
     "data": {
      "text/plain": [
       "48359"
      ]
     },
     "execution_count": 3,
     "metadata": {},
     "output_type": "execute_result"
    }
   ],
   "source": [
    "len(df_mat)"
   ]
  },
  {
   "cell_type": "code",
   "execution_count": 4,
   "metadata": {
    "collapsed": false
   },
   "outputs": [
    {
     "data": {
      "text/plain": [
       "[(0, 'target_id'),\n",
       " (1, 'col0_leaf_cont_7d'),\n",
       " (2, 'col0_leaf_drought_7d'),\n",
       " (3, 'col0_leaf_drought_6d'),\n",
       " (4, 'col0_leaf_cont_6d'),\n",
       " (5, 'col0_leaf_cont_5d'),\n",
       " (6, 'col0_leaf_drought_5d')]"
      ]
     },
     "execution_count": 4,
     "metadata": {},
     "output_type": "execute_result"
    }
   ],
   "source": [
    "list(enumerate(df_mat.columns))"
   ]
  },
  {
   "cell_type": "code",
   "execution_count": 5,
   "metadata": {
    "collapsed": true
   },
   "outputs": [],
   "source": [
    "df_mat.columns = df_mat.columns[[0,5,4,1,6,3,2]]"
   ]
  },
  {
   "cell_type": "code",
   "execution_count": 6,
   "metadata": {
    "collapsed": false
   },
   "outputs": [
    {
     "name": "stderr",
     "output_type": "stream",
     "text": [
      "/usr/local/lib/python2.7/dist-packages/ipykernel/__main__.py:2: RuntimeWarning: divide by zero encountered in log10\n",
      "  from ipykernel import kernelapp as app\n",
      "/usr/local/lib/python2.7/dist-packages/ipykernel/__main__.py:3: RuntimeWarning: divide by zero encountered in log10\n",
      "  app.launch_new_instance()\n",
      "/usr/local/lib/python2.7/dist-packages/ipykernel/__main__.py:4: RuntimeWarning: divide by zero encountered in log10\n"
     ]
    }
   ],
   "source": [
    "\n",
    "df_mat['fc_7'] = df_mat.apply(lambda x : np.log10(x['col0_leaf_drought_7d'] / (x['col0_leaf_cont_7d']+0.000001)),axis=1)\n",
    "df_mat['fc_6'] = df_mat.apply(lambda x : np.log10(x['col0_leaf_drought_6d'] / (x['col0_leaf_cont_6d']+0.000001)),axis=1)\n",
    "df_mat['fc_5'] = df_mat.apply(lambda x : np.log10(x['col0_leaf_drought_5d'] / (x['col0_leaf_cont_5d']+0.000001)),axis=1)\n",
    "df_mat['cont_sum'] = df_mat.apply(lambda x : x['col0_leaf_cont_5d'] + x['col0_leaf_cont_6d'] + x['col0_leaf_cont_7d'],axis=1)\n",
    "df_mat['drought_sum'] = df_mat.apply(lambda x : x['col0_leaf_drought_5d'] + x['col0_leaf_drought_6d'] + x['col0_leaf_drought_7d'],axis=1)\n",
    "df_mat['distance_drought_cont'] = df_mat.apply(lambda x :  np.linalg.norm(np.array([x['col0_leaf_cont_5d'],x['col0_leaf_cont_6d'],x['col0_leaf_cont_7d']])\\\n",
    "                                                                             -np.array([x['col0_leaf_drought_5d'],x['col0_leaf_drought_6d'],x['col0_leaf_drought_7d']])),axis=1)"
   ]
  },
  {
   "cell_type": "code",
   "execution_count": 7,
   "metadata": {
    "collapsed": false
   },
   "outputs": [
    {
     "name": "stdout",
     "output_type": "stream",
     "text": [
      "17026\n"
     ]
    }
   ],
   "source": [
    "fc_cut=200000\n",
    "m = (np.abs(df_mat['fc_7']) > fc_cut) | (np.abs(df_mat['fc_6']) > fc_cut) | (np.abs(df_mat['fc_5']) > fc_cut)\n",
    "print len(df_mat[m])\n",
    "df = df_mat[m]"
   ]
  },
  {
   "cell_type": "code",
   "execution_count": 8,
   "metadata": {
    "collapsed": false
   },
   "outputs": [],
   "source": [
    "df_transformed = df_mat.set_index('target_id').T"
   ]
  },
  {
   "cell_type": "code",
   "execution_count": 9,
   "metadata": {
    "collapsed": false
   },
   "outputs": [],
   "source": [
    "df_transformed_exp = df_transformed.loc[['col0_leaf_cont_5d','col0_leaf_cont_6d','col0_leaf_cont_7d','col0_leaf_drought_5d','col0_leaf_drought_6d','col0_leaf_drought_7d']]"
   ]
  },
  {
   "cell_type": "code",
   "execution_count": 10,
   "metadata": {
    "collapsed": false
   },
   "outputs": [
    {
     "data": {
      "text/plain": [
       "Index([u'AT1G01010.1', u'AT1G01020.2', u'AT1G01020.6', u'AT1G01020.1',\n",
       "       u'AT1G01020.4', u'AT1G01020.5', u'AT1G01020.3', u'AT1G01030.2',\n",
       "       u'AT1G01030.1', u'AT1G01040.1',\n",
       "       ...\n",
       "       u'ATMG01290.1', u'ATMG01300.1', u'ATMG01310.1', u'ATMG01320.1',\n",
       "       u'ATMG01330.1', u'ATMG01350.1', u'ATMG01360.1', u'ATMG01370.1',\n",
       "       u'ATMG01400.1', u'ATMG01410.1'],\n",
       "      dtype='object', name=u'target_id', length=48359)"
      ]
     },
     "execution_count": 10,
     "metadata": {},
     "output_type": "execute_result"
    }
   ],
   "source": [
    "df_transformed_exp.columns"
   ]
  },
  {
   "cell_type": "code",
   "execution_count": 94,
   "metadata": {
    "collapsed": false
   },
   "outputs": [],
   "source": [
    "X = preprocessing.scale(df_transformed_exp.values)"
   ]
  },
  {
   "cell_type": "code",
   "execution_count": 95,
   "metadata": {
    "collapsed": true
   },
   "outputs": [],
   "source": [
    "y = [0,0,0,1,1,1]"
   ]
  },
  {
   "cell_type": "code",
   "execution_count": 96,
   "metadata": {
    "collapsed": false
   },
   "outputs": [
    {
     "name": "stdout",
     "output_type": "stream",
     "text": [
      "Automatically created module for IPython interactive environment\n"
     ]
    },
    {
     "data": {
      "image/png": "[encoded data removed]",
      "text/plain": [
       "<matplotlib.figure.Figure at 0x7f962b6374d0>"
      ]
     },
     "metadata": {},
     "output_type": "display_data"
    }
   ],
   "source": [
    "print(__doc__)\n",
    "\n",
    "import numpy as np\n",
    "import matplotlib.pyplot as plt\n",
    "\n",
    "from sklearn.datasets import make_classification\n",
    "from sklearn.ensemble import ExtraTreesClassifier\n",
    "\n",
    "\n",
    "\n",
    "# Build a forest and compute the feature importances\n",
    "forest = ExtraTreesClassifier(n_estimators=2500,\n",
    "                              random_state=0)\n",
    "\n",
    "forest.fit(X, y)\n",
    "importances = forest.feature_importances_\n",
    "std = np.std([tree.feature_importances_ for tree in forest.estimators_],\n",
    "             axis=0)\n",
    "indices = np.argsort(importances)[::-1]\n",
    "\n",
    "# Plot the feature importances of the forest\n",
    "plt.figure()\n",
    "plt.title(\"Feature importances\")\n",
    "plt.bar(range(X.shape[1]), importances[indices],\n",
    "       color=\"r\", yerr=std[indices], align=\"center\")\n",
    "plt.xticks(range(X.shape[1]), indices)\n",
    "plt.xlim([-1, X.shape[1]])\n",
    "plt.show()"
   ]
  },
  {
   "cell_type": "code",
   "execution_count": 97,
   "metadata": {
    "collapsed": false
   },
   "outputs": [],
   "source": [
    "m = importances.nonzero()[0]\n",
    "selected_genes = df_transformed_exp.columns[m]"
   ]
  },
  {
   "cell_type": "code",
   "execution_count": 113,
   "metadata": {
    "collapsed": false
   },
   "outputs": [
    {
     "data": {
      "text/plain": [
       "Index([u'AT1G01080.3', u'AT1G01290.2', u'AT1G01355.2', u'AT1G01740.5',\n",
       "       u'AT1G01970.1', u'AT1G02170.1', u'AT1G02280.2', u'AT1G02610.1',\n",
       "       u'AT1G02650.1', u'AT1G02850.3',\n",
       "       ...\n",
       "       u'AT5G67050.1', u'AT5G67240.1', u'AT5G67270.1', u'AT5G67440.3',\n",
       "       u'AT5G67550.1', u'ATCG00800.1', u'ATCG00810.1', u'ATCG00830.1',\n",
       "       u'ATCG00840.1', u'ATCG00870.1'],\n",
       "      dtype='object', name=u'target_id', length=1809)"
      ]
     },
     "execution_count": 113,
     "metadata": {},
     "output_type": "execute_result"
    }
   ],
   "source": [
    "selected_genes"
   ]
  },
  {
   "cell_type": "code",
   "execution_count": 114,
   "metadata": {
    "collapsed": false
   },
   "outputs": [],
   "source": [
    "X_t = X[:,m]"
   ]
  },
  {
   "cell_type": "code",
   "execution_count": 115,
   "metadata": {
    "collapsed": false
   },
   "outputs": [
    {
     "data": {
      "text/plain": [
       "(6, 1809)"
      ]
     },
     "execution_count": 115,
     "metadata": {},
     "output_type": "execute_result"
    }
   ],
   "source": [
    "X_t.shape"
   ]
  },
  {
   "cell_type": "code",
   "execution_count": 106,
   "metadata": {
    "collapsed": false
   },
   "outputs": [
    {
     "data": {
      "image/png": "[encoded data removed]",
      "text/plain": [
       "<matplotlib.figure.Figure at 0x7f962cdf7d90>"
      ]
     },
     "metadata": {},
     "output_type": "display_data"
    }
   ],
   "source": [
    "import scipy.cluster.hierarchy as sch\n",
    "df = selected_df_sub_low\n",
    "fig = plt.figure(figsize=(5,14))\n",
    "ax1 = fig.add_axes([0.09,0.1,0.2,0.6])\n",
    "D  = X_t.T\n",
    "#from sklearn import preprocessing\n",
    "#D = preprocessing.scale(D)\n",
    "Y  = sch.linkage(D, method='ward')\n",
    "Z = sch.dendrogram(Y, orientation='right')\n",
    "ax1.set_xticks([])\n",
    "ax1.set_yticks([])\n",
    "ax1.set_axis_off()\n",
    "zix = Z['leaves']\n",
    "\n",
    "ax2 = fig.add_axes([0.53,0.1,0.5,0.6])\n",
    "cax = ax2.pcolor(D[zix])\n",
    "ax2.axis('tight') # remove blank column\n",
    "#ax2.set_yticks(np.arange(0.5, len(df.index), 1))\n",
    "#ax2.set_yticklabels(df.index[zix],ha='right')\n",
    "\n",
    "ax2.set_xticks(np.arange(0.5, len(df.columns[0:6]), 1))\n",
    "ax2.set_xticklabels(df.columns[0:6],rotation='vertical')\n",
    "fig.colorbar(cax, orientation='vertical')\n",
    "#plt.tight_layout()\n",
    "plt.show()"
   ]
  },
  {
   "cell_type": "code",
   "execution_count": 108,
   "metadata": {
    "collapsed": false
   },
   "outputs": [],
   "source": [
    "selected_df = df_mat.set_index('target_id').loc[selected_genes]"
   ]
  },
  {
   "cell_type": "code",
   "execution_count": 109,
   "metadata": {
    "collapsed": false
   },
   "outputs": [
    {
     "data": {
      "text/plain": [
       "(1809, 12)"
      ]
     },
     "execution_count": 109,
     "metadata": {},
     "output_type": "execute_result"
    }
   ],
   "source": [
    "selected_df.shape"
   ]
  },
  {
   "cell_type": "code",
   "execution_count": 110,
   "metadata": {
    "collapsed": false
   },
   "outputs": [],
   "source": [
    "selected_df.head()\n",
    "selected_df_sub = selected_df[['col0_leaf_cont_5d','col0_leaf_cont_6d','col0_leaf_cont_7d','col0_leaf_drought_5d','col0_leaf_drought_6d','col0_leaf_drought_7d']]"
   ]
  },
  {
   "cell_type": "code",
   "execution_count": 111,
   "metadata": {
    "collapsed": false
   },
   "outputs": [
    {
     "data": {
      "text/html": [
       "<div>\n",
       "<table border=\"1\" class=\"dataframe\">\n",
       "  <thead>\n",
       "    <tr style=\"text-align: right;\">\n",
       "      <th></th>\n",
       "      <th>col0_leaf_cont_5d</th>\n",
       "      <th>col0_leaf_cont_6d</th>\n",
       "      <th>col0_leaf_cont_7d</th>\n",
       "      <th>col0_leaf_drought_5d</th>\n",
       "      <th>col0_leaf_drought_6d</th>\n",
       "      <th>col0_leaf_drought_7d</th>\n",
       "    </tr>\n",
       "    <tr>\n",
       "      <th>target_id</th>\n",
       "      <th></th>\n",
       "      <th></th>\n",
       "      <th></th>\n",
       "      <th></th>\n",
       "      <th></th>\n",
       "      <th></th>\n",
       "    </tr>\n",
       "  </thead>\n",
       "  <tbody>\n",
       "    <tr>\n",
       "      <th>AT1G01080.3</th>\n",
       "      <td>3.705130</td>\n",
       "      <td>3.928450</td>\n",
       "      <td>5.714340</td>\n",
       "      <td>6.242370</td>\n",
       "      <td>6.150330</td>\n",
       "      <td>6.734980</td>\n",
       "    </tr>\n",
       "    <tr>\n",
       "      <th>AT1G01290.2</th>\n",
       "      <td>10.799700</td>\n",
       "      <td>13.049500</td>\n",
       "      <td>11.549500</td>\n",
       "      <td>8.191940</td>\n",
       "      <td>9.293580</td>\n",
       "      <td>9.370020</td>\n",
       "    </tr>\n",
       "    <tr>\n",
       "      <th>AT1G01355.2</th>\n",
       "      <td>0.188684</td>\n",
       "      <td>0.268093</td>\n",
       "      <td>0.218125</td>\n",
       "      <td>0.068109</td>\n",
       "      <td>0.113514</td>\n",
       "      <td>0.123735</td>\n",
       "    </tr>\n",
       "    <tr>\n",
       "      <th>AT1G01740.5</th>\n",
       "      <td>1.388190</td>\n",
       "      <td>2.633910</td>\n",
       "      <td>2.634590</td>\n",
       "      <td>1.156790</td>\n",
       "      <td>1.302450</td>\n",
       "      <td>1.177140</td>\n",
       "    </tr>\n",
       "    <tr>\n",
       "      <th>AT1G01970.1</th>\n",
       "      <td>20.516900</td>\n",
       "      <td>20.207900</td>\n",
       "      <td>18.334500</td>\n",
       "      <td>23.187200</td>\n",
       "      <td>22.637400</td>\n",
       "      <td>21.364600</td>\n",
       "    </tr>\n",
       "  </tbody>\n",
       "</table>\n",
       "</div>"
      ],
      "text/plain": [
       "             col0_leaf_cont_5d  col0_leaf_cont_6d  col0_leaf_cont_7d  \\\n",
       "target_id                                                              \n",
       "AT1G01080.3           3.705130           3.928450           5.714340   \n",
       "AT1G01290.2          10.799700          13.049500          11.549500   \n",
       "AT1G01355.2           0.188684           0.268093           0.218125   \n",
       "AT1G01740.5           1.388190           2.633910           2.634590   \n",
       "AT1G01970.1          20.516900          20.207900          18.334500   \n",
       "\n",
       "             col0_leaf_drought_5d  col0_leaf_drought_6d  col0_leaf_drought_7d  \n",
       "target_id                                                                      \n",
       "AT1G01080.3              6.242370              6.150330              6.734980  \n",
       "AT1G01290.2              8.191940              9.293580              9.370020  \n",
       "AT1G01355.2              0.068109              0.113514              0.123735  \n",
       "AT1G01740.5              1.156790              1.302450              1.177140  \n",
       "AT1G01970.1             23.187200             22.637400             21.364600  "
      ]
     },
     "execution_count": 111,
     "metadata": {},
     "output_type": "execute_result"
    }
   ],
   "source": [
    "selected_df_sub.head()"
   ]
  },
  {
   "cell_type": "code",
   "execution_count": 112,
   "metadata": {
    "collapsed": false
   },
   "outputs": [
    {
     "data": {
      "image/png": "[encoded data removed]",
      "text/plain": [
       "<matplotlib.figure.Figure at 0x7f9612de8310>"
      ]
     },
     "metadata": {},
     "output_type": "display_data"
    }
   ],
   "source": [
    "plt.hist(np.log10(selected_df_sub.values.ravel()+0.001),bins=20)\n",
    "plt.show()"
   ]
  },
  {
   "cell_type": "code",
   "execution_count": null,
   "metadata": {
    "collapsed": true
   },
   "outputs": [],
   "source": []
  }
 ],
 "metadata": {
  "kernelspec": {
   "display_name": "Python 2",
   "language": "python",
   "name": "python2"
  },
  "language_info": {
   "codemirror_mode": {
    "name": "ipython",
    "version": 2
   },
   "file_extension": ".py",
   "mimetype": "text/x-python",
   "name": "python",
   "nbconvert_exporter": "python",
   "pygments_lexer": "ipython2",
   "version": "2.7.6"
  }
 },
 "nbformat": 4,
 "nbformat_minor": 0
}
